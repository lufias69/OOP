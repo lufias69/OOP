{
 "cells": [
  {
   "cell_type": "code",
   "execution_count": 1,
   "metadata": {},
   "outputs": [
    {
     "name": "stdout",
     "output_type": "stream",
     "text": [
      "point1 < point2: True\n",
      "point1 > point2: False\n",
      "point1 <= point2: True\n",
      "point1 >= point2: False\n",
      "point1 == point2: False\n"
     ]
    }
   ],
   "source": [
    "import math\n",
    "\n",
    "class Point:\n",
    "\n",
    "    def __init__(self, xCoord=0, yCoord=0):\n",
    "        self.__xCoord = xCoord\n",
    "        self.__yCoord = yCoord\n",
    "\n",
    "    # get x coordinate\n",
    "    def get_xCoord(self):\n",
    "        return self.__xCoord\n",
    "\n",
    "    # set x coordinate\n",
    "    def set_xCoord(self, xCoord):\n",
    "        self.__xCoord = xCoord\n",
    "\n",
    "    # get y coordinate\n",
    "    def get_yCoord(self):\n",
    "        return self.__yCoord\n",
    "\n",
    "    # set y coordinate\n",
    "    def set_yCoord(self, yCoord):\n",
    "        self.__yCoord = yCoord\n",
    "\n",
    "    # get current position\n",
    "    def get_position(self):\n",
    "        return self.__xCoord, self.__yCoord\n",
    "\n",
    "    # change x & y coordinates by p & q\n",
    "    def move(self, p, q):\n",
    "        self.__xCoord += p\n",
    "        self.__yCoord += q\n",
    "\n",
    "    # overload + operator\n",
    "    def __add__(self, point_ov):\n",
    "        return Point(self.__xCoord + point_ov.__xCoord, self.__yCoord + point_ov.__yCoord)\n",
    "\n",
    "    # overload - operator\n",
    "    def __sub__(self, point_ov):\n",
    "        return Point(self.__xCoord - point_ov.__xCoord, self.__yCoord - point_ov.__yCoord)\n",
    "\n",
    "    # overload < (less than) operator\n",
    "    def __lt__(self, point_ov):\n",
    "        return math.sqrt(self.__xCoord ** 2 + self.__yCoord ** 2) < math.sqrt(point_ov.__xCoord ** 2 + point_ov.__yCoord ** 2)\n",
    "\n",
    "    # overload > (greater than) operator\n",
    "    def __gt__(self, point_ov):\n",
    "        return math.sqrt(self.__xCoord ** 2 + self.__yCoord ** 2) > math.sqrt(point_ov.__xCoord ** 2 + point_ov.__yCoord ** 2)\n",
    "\n",
    "    # overload <= (less than or equal to) operator\n",
    "    def __le__(self, point_ov):\n",
    "        return math.sqrt(self.__xCoord ** 2 + self.__yCoord ** 2) <= math.sqrt(point_ov.__xCoord ** 2 + point_ov.__yCoord ** 2)\n",
    "\n",
    "    # overload >= (greater than or equal to) operator\n",
    "    def __ge__(self, point_ov):\n",
    "        return math.sqrt(self.__xCoord ** 2 + self.__yCoord ** 2) >= math.sqrt(point_ov.__xCoord ** 2 + point_ov.__yCoord ** 2)\n",
    "\n",
    "    # overload == (equal to) operator\n",
    "    def __eq__(self, point_ov):\n",
    "        return math.sqrt(self.__xCoord ** 2 + self.__yCoord ** 2) == math.sqrt(point_ov.__xCoord ** 2 + point_ov.__yCoord ** 2)\n",
    "\n",
    "point1 = Point(2, 4)\n",
    "point2 = Point(12, 8)\n",
    "\n",
    "print(\"point1 < point2:\", point1 < point2)\n",
    "print(\"point1 > point2:\", point1 > point2)\n",
    "print(\"point1 <= point2:\", point1 <= point2)\n",
    "print(\"point1 >= point2:\", point1 >= point2)\n",
    "print(\"point1 == point2:\", point1 == point2)"
   ]
  },
  {
   "cell_type": "code",
   "execution_count": 3,
   "metadata": {},
   "outputs": [],
   "source": [
    "class A:\n",
    "    def nga(self, a):\n",
    "        return a\n",
    "    def nga (self, a, b):\n",
    "        return a,b"
   ]
  },
  {
   "cell_type": "code",
   "execution_count": 4,
   "metadata": {},
   "outputs": [],
   "source": [
    "a = A()"
   ]
  },
  {
   "cell_type": "code",
   "execution_count": 5,
   "metadata": {},
   "outputs": [
    {
     "ename": "TypeError",
     "evalue": "nga() missing 1 required positional argument: 'b'",
     "output_type": "error",
     "traceback": [
      "\u001b[1;31m----------------------------------------------------------------------\u001b[0m",
      "\u001b[1;31mTypeError\u001b[0m                            Traceback (most recent call last)",
      "\u001b[1;32m<ipython-input-5-c8d960e409b4>\u001b[0m in \u001b[0;36m<module>\u001b[1;34m\u001b[0m\n\u001b[1;32m----> 1\u001b[1;33m \u001b[0ma\u001b[0m\u001b[1;33m.\u001b[0m\u001b[0mnga\u001b[0m\u001b[1;33m(\u001b[0m\u001b[1;36m1\u001b[0m\u001b[1;33m)\u001b[0m\u001b[1;33m\u001b[0m\u001b[1;33m\u001b[0m\u001b[0m\n\u001b[0m",
      "\u001b[1;31mTypeError\u001b[0m: nga() missing 1 required positional argument: 'b'"
     ]
    }
   ],
   "source": [
    "a.nga(1)"
   ]
  },
  {
   "cell_type": "code",
   "execution_count": null,
   "metadata": {},
   "outputs": [],
   "source": []
  }
 ],
 "metadata": {
  "kernelspec": {
   "display_name": "Python 3",
   "language": "python",
   "name": "python3"
  },
  "language_info": {
   "codemirror_mode": {
    "name": "ipython",
    "version": 3
   },
   "file_extension": ".py",
   "mimetype": "text/x-python",
   "name": "python",
   "nbconvert_exporter": "python",
   "pygments_lexer": "ipython3",
   "version": "3.7.6"
  }
 },
 "nbformat": 4,
 "nbformat_minor": 4
}
