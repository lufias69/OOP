{
 "cells": [
  {
   "cell_type": "code",
   "execution_count": 1,
   "id": "1520d1cb",
   "metadata": {},
   "outputs": [],
   "source": [
    "class karakter:\n",
    "    def __init__(self, inputNama):\n",
    "        self.nama = inputNama\n",
    "        self.poin = 0\n",
    "        self.darah = 100.0\n",
    "        self.hidup = True\n",
    "        \n",
    "    def cakar (self,karakter_lawan):\n",
    "        if karakter_lawan.hidup:\n",
    "            karakter_lawan.darah = karakter_lawan.darah -5.0\n",
    "            self.poin = self.poin+5\n",
    "            \n",
    "            if karakter_lawan.darah <=0:\n",
    "                karakter_lawan.hidup = False\n",
    "            print(self.nama,\"Mencakar\",karakter_lawan.nama)\n",
    "            print(\"poin\",self.nama,\"Menjadi\",self.poin)\n",
    "            print(\"darah\", karakter_lawan.nama, \"menjadi\",karakter_lawan.hidup)\n",
    "            \n",
    "        else:\n",
    "            print(karakter_lawan.nama,\"sudah mati\")\n",
    "            \n",
    "    def pukul(self):\n",
    "        pass"
   ]
  },
  {
   "cell_type": "code",
   "execution_count": 4,
   "id": "0449442b",
   "metadata": {},
   "outputs": [],
   "source": [
    "fatmasari = karakter(\"Fatmasari\")\n",
    "uya_kuya = karakter(\"Uya kuya\")"
   ]
  },
  {
   "cell_type": "code",
   "execution_count": 6,
   "id": "3226f7a0",
   "metadata": {},
   "outputs": [
    {
     "name": "stdout",
     "output_type": "stream",
     "text": [
      "Fatmasari Cakar Uya kuya\n",
      "poin Fatmasari Menjadi 5\n",
      "darah Uya kuya menjadi True\n",
      "Fatmasari Cakar Uya kuya\n",
      "poin Fatmasari Menjadi 10\n",
      "darah Uya kuya menjadi True\n",
      "Uya kuya Cakar Fatmasari\n",
      "poin Uya kuya Menjadi 5\n",
      "darah Fatmasari menjadi True\n"
     ]
    }
   ],
   "source": [
    "fatmasari.cakar(uya_kuya)\n",
    "fatmasari.cakar(uya_kuya)\n",
    "\n",
    "uya_kuya.cakar(fatmasari)"
   ]
  },
  {
   "cell_type": "code",
   "execution_count": null,
   "id": "2c38299c",
   "metadata": {},
   "outputs": [],
   "source": []
  }
 ],
 "metadata": {
  "kernelspec": {
   "display_name": "Python 3",
   "language": "python",
   "name": "python3"
  },
  "language_info": {
   "codemirror_mode": {
    "name": "ipython",
    "version": 3
   },
   "file_extension": ".py",
   "mimetype": "text/x-python",
   "name": "python",
   "nbconvert_exporter": "python",
   "pygments_lexer": "ipython3",
   "version": "3.8.8"
  }
 },
 "nbformat": 4,
 "nbformat_minor": 5
}
