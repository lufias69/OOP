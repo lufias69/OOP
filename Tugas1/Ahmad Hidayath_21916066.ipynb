{
 "cells": [
  {
   "cell_type": "code",
   "execution_count": 5,
   "id": "70050c0d",
   "metadata": {},
   "outputs": [
    {
     "name": "stdout",
     "output_type": "stream",
     "text": [
      "WA ODE SRI RAMLAN\n",
      "21916081\n"
     ]
    }
   ],
   "source": [
    "print(\"WA ODE SRI RAMLAN\")\n",
    "print(\"21916081\")"
   ]
  },
  {
   "cell_type": "code",
   "execution_count": 2,
   "id": "34124048",
   "metadata": {},
   "outputs": [],
   "source": [
    "class Karakter:\n",
    "    \n",
    "    def __init__ (self, inputNama):\n",
    "        self.nama = inputNama\n",
    "        self.poin = 0\n",
    "        self.darah = 100.0\n",
    "        self.hidup = True \n",
    "        \n",
    "    def pukul(self, karakter_lawan):\n",
    "        if karakter_lawan.hidup:\n",
    "            karakter_lawan.darah = karakter_lawan.darah -5.0\n",
    "            self.poin = self.poin+5\n",
    "            \n",
    "            if karakter_lawan.darah <=0:\n",
    "               karakter_lawan.hidup  = False  \n",
    "            print(self.nama, \"Memukul\", karakter_lawan.nama)\n",
    "            print(\"poin\", self.nama, \"Menjadi\",self.poin)\n",
    "            print(\"darah\", karakter_lawan.darah, \"Menjadi\", karakter_lawan.darah)\n",
    "            print(\"-\"*70)\n",
    "            \n",
    "        else:\n",
    "            print(karakter_lawan.nama, \"sudah mati\")\n",
    "            \n",
    "    def cakar(self,karakter_lawan):\n",
    "        pass\n",
    "            \n",
    "            \n",
    "            \n",
    "            \n",
    "        \n",
    "        "
   ]
  },
  {
   "cell_type": "code",
   "execution_count": 28,
   "id": "8e6d69d1",
   "metadata": {},
   "outputs": [
    {
     "name": "stdout",
     "output_type": "stream",
     "text": [
      "Denise Memukul Uya Kuya\n",
      "poin Denise Menjadi 5\n",
      "darah 95.0 Menjadi 95.0\n",
      "----------------------------------------------------------------------\n",
      "Denise Memukul Uya Kuya\n",
      "poin Denise Menjadi 10\n",
      "darah 90.0 Menjadi 90.0\n",
      "----------------------------------------------------------------------\n",
      "Uya Kuya Memukul Denise\n",
      "poin Uya Kuya Menjadi 5\n",
      "darah 95.0 Menjadi 95.0\n",
      "----------------------------------------------------------------------\n",
      "Cinta Kuya Memukul Denise\n",
      "poin Cinta Kuya Menjadi 5\n",
      "darah 90.0 Menjadi 90.0\n",
      "----------------------------------------------------------------------\n"
     ]
    }
   ],
   "source": [
    "denise = Karakter(\"Denise\")\n",
    "uya_kuya = Karakter(\"Uya Kuya\")\n",
    "cinta = Karakter(\"Cinta Kuya\")\n",
    "\n",
    "denise.pukul(uya_kuya)\n",
    "denise.pukul(uya_kuya)\n",
    "\n",
    "uya_kuya.pukul(denise)\n",
    "cinta.pukul(denise)\n"
   ]
  },
  {
   "cell_type": "code",
   "execution_count": 1,
   "id": "96640437",
   "metadata": {},
   "outputs": [
    {
     "name": "stdout",
     "output_type": "stream",
     "text": [
      "Hello Word\n"
     ]
    }
   ],
   "source": [
    "print(\"Hello Word\")"
   ]
  },
  {
   "cell_type": "code",
   "execution_count": 3,
   "id": "75d531a9",
   "metadata": {},
   "outputs": [],
   "source": [
    "class Karakter:\n",
    "    \n",
    "    def __init__ (self, inputNama):\n",
    "        self.nama = inputNama\n",
    "        self.poin = 0\n",
    "        self.darah = 100.0\n",
    "        self.hidup = True \n",
    "        \n",
    "    def cakar(self, karakter_lawan):\n",
    "        if karakter_lawan.hidup:\n",
    "            karakter_lawan.darah = karakter_lawan.darah -5.0\n",
    "            self.poin = self.poin+5\n",
    "            \n",
    "            if karakter_lawan.darah <=0:\n",
    "               karakter_lawan.hidup  = False  \n",
    "            print(self.nama, \"Mencakar\", karakter_lawan.nama)\n",
    "            print(\"poin\", self.nama, \"Menjadi\",self.poin)\n",
    "            print(\"darah\", karakter_lawan.darah, \"Menjadi\", karakter_lawan.darah)\n",
    "            print(\"-\"*70)\n",
    "            \n",
    "        else:\n",
    "            print(karakter_lawan.nama, \"sudah mati\")\n",
    "            \n",
    "    def pukul(self,karakter_lawan):\n",
    "        pass\n",
    "            \n",
    "            \n",
    "            \n",
    "            \n",
    "        \n",
    "        "
   ]
  },
  {
   "cell_type": "code",
   "execution_count": 4,
   "id": "7724e7e3",
   "metadata": {},
   "outputs": [
    {
     "name": "stdout",
     "output_type": "stream",
     "text": [
      "Denise Mencakar Uya Kuya\n",
      "poin Denise Menjadi 5\n",
      "darah 95.0 Menjadi 95.0\n",
      "----------------------------------------------------------------------\n",
      "Denise Mencakar Uya Kuya\n",
      "poin Denise Menjadi 10\n",
      "darah 90.0 Menjadi 90.0\n",
      "----------------------------------------------------------------------\n",
      "Uya Kuya Mencakar Denise\n",
      "poin Uya Kuya Menjadi 5\n",
      "darah 95.0 Menjadi 95.0\n",
      "----------------------------------------------------------------------\n",
      "Cinta Kuya Mencakar Denise\n",
      "poin Cinta Kuya Menjadi 5\n",
      "darah 90.0 Menjadi 90.0\n",
      "----------------------------------------------------------------------\n"
     ]
    }
   ],
   "source": [
    "denise = Karakter(\"Denise\")\n",
    "uya_kuya = Karakter(\"Uya Kuya\")\n",
    "cinta = Karakter(\"Cinta Kuya\")\n",
    "\n",
    "denise.cakar(uya_kuya)\n",
    "denise.cakar(uya_kuya)\n",
    "\n",
    "uya_kuya.cakar(denise)\n",
    "cinta.cakar(denise)"
   ]
  },
  {
   "cell_type": "code",
   "execution_count": null,
   "id": "7f8ac582",
   "metadata": {},
   "outputs": [],
   "source": []
  }
 ],
 "metadata": {
  "kernelspec": {
   "display_name": "Python 3",
   "language": "python",
   "name": "python3"
  },
  "language_info": {
   "codemirror_mode": {
    "name": "ipython",
    "version": 3
   },
   "file_extension": ".py",
   "mimetype": "text/x-python",
   "name": "python",
   "nbconvert_exporter": "python",
   "pygments_lexer": "ipython3",
   "version": "3.8.8"
  }
 },
 "nbformat": 4,
 "nbformat_minor": 5
}
