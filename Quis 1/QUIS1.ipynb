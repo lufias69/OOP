{
 "cells": [
  {
   "cell_type": "markdown",
   "metadata": {},
   "source": [
    "import pandas as pd\n",
    "from cosine import Kemiripan\n",
    "cosine = Kemiripan()\n",
    "\n",
    "class Koreksi:\n",
    "    def __init__(self, inputNama ):\n",
    "        self.nama = inputNama\n",
    "        \n",
    "    def proses(self, inputFile, ambil_dari=4, tingkat_kemiripan = 90):\n",
    "        self.ambil_dari = ambil_dari\n",
    "        self.dataframe = pd.read_excel(inputFile)\n",
    "        kolom = self.dataframe.columns\n",
    "        nama_kolom = kolom[ambil_dari::]\n",
    "        self.dict_all = dict()\n",
    "        for i, kolom in enumerate(nama_kolom):\n",
    "            list_jawaban = self.dataframe[kolom].tolist()\n",
    "            dict_similarity = dict()\n",
    "            dict_similarity['nama']=self.dataframe.Nama.tolist()\n",
    "            for nama, jawaban_banding in zip( self.dataframe.Nama.tolist(), list_jawaban):\n",
    "                data_list_similarity = list()\n",
    "                for index in range(len(list_jawaban)):\n",
    "                    if nama is not self.dataframe.Nama.tolist()[index]:\n",
    "                        similarity = cosine.proses(list_jawaban[index],jawaban_banding)[0][0]*100\n",
    "                        similarity = round(similarity)\n",
    "                        data_list_similarity.append(similarity)\n",
    "                        if similarity >= tingkat_kemiripan:\n",
    "                                pass\n",
    "                    else:\n",
    "                        data_list_similarity.append(0)\n",
    "                dict_similarity[nama]=data_list_similarity\n",
    "            self.dict_all[i]=dict_similarity\n",
    "            \n",
    "    def tampil_nama(self):\n",
    "        for i in self.dataframe.Nama.tolist()[self.ambil_dari::]:\n",
    "            print(i)\n",
    "    def tampil_soal(self, ):\n",
    "        for i in self.dataframe.columns:\n",
    "            print(i)\n",
    "\n",
    "    def simpan(self, nama_file=None):\n",
    "        if nama_file is None:\n",
    "            nama_file = self.nama\n",
    "            \n",
    "        writer = pd.ExcelWriter((nama_file+'.xlsx'), engine='xlsxwriter')\n",
    "        for key in self.dict_all:\n",
    "            df = pd.DataFrame.from_dict(self.dict_all[key])\n",
    "            df.to_excel(writer, sheet_name=str(key+1))\n",
    "        writer.save()"
   ]
  },
  {
   "cell_type": "markdown",
   "metadata": {},
   "source": [
    "kelas4b = Koreksi(\"quis1\")\n",
    "kelas4b.proses(\"Quis 1 OOP (Responses).xlsx\", 4)\n",
    "kelas4b.simpan()"
   ]
  },
  {
   "cell_type": "code",
   "execution_count": null,
   "metadata": {},
   "outputs": [],
   "source": []
  }
 ],
 "metadata": {
  "kernelspec": {
   "display_name": "Python 3",
   "language": "python",
   "name": "python3"
  },
  "language_info": {
   "codemirror_mode": {
    "name": "ipython",
    "version": 3
   },
   "file_extension": ".py",
   "mimetype": "text/x-python",
   "name": "python",
   "nbconvert_exporter": "python",
   "pygments_lexer": "ipython3",
   "version": "3.7.6"
  }
 },
 "nbformat": 4,
 "nbformat_minor": 4
}
