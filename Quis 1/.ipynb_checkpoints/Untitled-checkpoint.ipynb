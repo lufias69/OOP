{
 "cells": [
  {
   "cell_type": "code",
   "execution_count": null,
   "metadata": {},
   "outputs": [],
   "source": [
    "#conda install -c conda-forge python-levenshtein\n",
    "#conda install -c conda-forge fuzzywuzzy"
   ]
  },
  {
   "cell_type": "code",
   "execution_count": 45,
   "metadata": {},
   "outputs": [],
   "source": [
    "import pandas as pd\n",
    "\n",
    "# from fuzzywuzzy import fuzz\n",
    "# from fuzzywuzzy import process\n"
   ]
  },
  {
   "cell_type": "code",
   "execution_count": 46,
   "metadata": {},
   "outputs": [
    {
     "data": {
      "text/html": [
       "<div>\n",
       "<style scoped>\n",
       "    .dataframe tbody tr th:only-of-type {\n",
       "        vertical-align: middle;\n",
       "    }\n",
       "\n",
       "    .dataframe tbody tr th {\n",
       "        vertical-align: top;\n",
       "    }\n",
       "\n",
       "    .dataframe thead th {\n",
       "        text-align: right;\n",
       "    }\n",
       "</style>\n",
       "<table border=\"1\" class=\"dataframe\">\n",
       "  <thead>\n",
       "    <tr style=\"text-align: right;\">\n",
       "      <th></th>\n",
       "      <th>Timestamp</th>\n",
       "      <th>Score</th>\n",
       "      <th>Nama</th>\n",
       "      <th>Nim</th>\n",
       "      <th>Apa yang dimaksud dengan class</th>\n",
       "      <th>Apa yang dimaksud dengan object</th>\n",
       "      <th>Apa yang dimaksud dengan konstruktor ?</th>\n",
       "      <th>Bagaimana cara menulis konstruktor (python atau java)?</th>\n",
       "    </tr>\n",
       "  </thead>\n",
       "  <tbody>\n",
       "    <tr>\n",
       "      <th>0</th>\n",
       "      <td>2021-07-14 07:09:16.487</td>\n",
       "      <td>0</td>\n",
       "      <td>Aisyah Lestarinda</td>\n",
       "      <td>21916060</td>\n",
       "      <td>class adalah gabungan data dalam satu kesatuan...</td>\n",
       "      <td>Object adalah representasi dari sebuah kelas, ...</td>\n",
       "      <td>Konstructor adalah method khusus yang akan die...</td>\n",
       "      <td>Public User () {\\n       System.out.println (\"...</td>\n",
       "    </tr>\n",
       "    <tr>\n",
       "      <th>1</th>\n",
       "      <td>2021-07-14 07:10:01.180</td>\n",
       "      <td>0</td>\n",
       "      <td>Muh andri ardiansyah k</td>\n",
       "      <td>21916083</td>\n",
       "      <td>merupakan suatu blueprint atau cetakan untuk m...</td>\n",
       "      <td>Object adalah instance dari class secara umum ...</td>\n",
       "      <td>Constructor adalah method khusus yang akan die...</td>\n",
       "      <td>Dengan cara menuliskan nama method construktur...</td>\n",
       "    </tr>\n",
       "  </tbody>\n",
       "</table>\n",
       "</div>"
      ],
      "text/plain": [
       "                Timestamp  Score                    Nama       Nim  \\\n",
       "0 2021-07-14 07:09:16.487      0       Aisyah Lestarinda  21916060   \n",
       "1 2021-07-14 07:10:01.180      0  Muh andri ardiansyah k  21916083   \n",
       "\n",
       "                      Apa yang dimaksud dengan class  \\\n",
       "0  class adalah gabungan data dalam satu kesatuan...   \n",
       "1  merupakan suatu blueprint atau cetakan untuk m...   \n",
       "\n",
       "                     Apa yang dimaksud dengan object  \\\n",
       "0  Object adalah representasi dari sebuah kelas, ...   \n",
       "1  Object adalah instance dari class secara umum ...   \n",
       "\n",
       "              Apa yang dimaksud dengan konstruktor ?  \\\n",
       "0  Konstructor adalah method khusus yang akan die...   \n",
       "1  Constructor adalah method khusus yang akan die...   \n",
       "\n",
       "  Bagaimana cara menulis konstruktor (python atau java)?  \n",
       "0  Public User () {\\n       System.out.println (\"...      \n",
       "1  Dengan cara menuliskan nama method construktur...      "
      ]
     },
     "execution_count": 46,
     "metadata": {},
     "output_type": "execute_result"
    }
   ],
   "source": [
    "dataframe = pd.read_excel(\"Quis 1 OOP (Responses).xlsx\")\n",
    "dataframe.head(2)"
   ]
  },
  {
   "cell_type": "code",
   "execution_count": null,
   "metadata": {},
   "outputs": [],
   "source": []
  },
  {
   "cell_type": "code",
   "execution_count": 82,
   "metadata": {},
   "outputs": [],
   "source": []
  },
  {
   "cell_type": "code",
   "execution_count": 83,
   "metadata": {},
   "outputs": [
    {
     "name": "stdout",
     "output_type": "stream",
     "text": [
      "merupakan suatu blueprint atau cetakan untuk menciptakan suatu instant dari object. \n",
      "{Muh andri ardiansyah k}\n",
      "**********************************************************************\n",
      "Class merupakan suatu blueprint atau cetakan untuk menciptakan suatu instant dari object.\n",
      "{Fatmasari} "
     ]
    }
   ],
   "source": [
    "bandingkan_jawaban(\"Muh andri ardiansyah k\",\"Fatmasari\", 'Apa yang dimaksud dengan class')"
   ]
  },
  {
   "cell_type": "code",
   "execution_count": 61,
   "metadata": {},
   "outputs": [
    {
     "data": {
      "text/plain": [
       "Index(['Timestamp', 'Score', 'Nama', 'Nim', 'Apa yang dimaksud dengan class',\n",
       "       'Apa yang dimaksud dengan object',\n",
       "       'Apa yang dimaksud dengan konstruktor ?',\n",
       "       'Bagaimana cara menulis konstruktor (python atau java)?'],\n",
       "      dtype='object')"
      ]
     },
     "execution_count": 61,
     "metadata": {},
     "output_type": "execute_result"
    }
   ],
   "source": [
    "dataframe.columns"
   ]
  },
  {
   "cell_type": "code",
   "execution_count": 20,
   "metadata": {},
   "outputs": [],
   "source": [
    "# kolom = dataframe.columns\n",
    "# nama_kolom = kolom[4::]"
   ]
  },
  {
   "cell_type": "code",
   "execution_count": 44,
   "metadata": {},
   "outputs": [],
   "source": [
    "import pandas as pd\n",
    "from fuzzywuzzy import fuzz\n",
    "from fuzzywuzzy import process\n",
    "\n",
    "class Koreksi:\n",
    "    def __init__(self, inputNama):\n",
    "        self.nama = inputNama\n",
    "    \n",
    "    def proses(self, inputFile, ambil_dari=0):\n",
    "        dataframe = pd.read_excel(inputFile)\n",
    "        \n",
    "        kolom = dataframe.columns\n",
    "        nama_kolom = kolom[ambil_dari::]\n",
    "        self.dict_all = dict()\n",
    "        for i, kolom in enumerate(nama_kolom):\n",
    "            list_jawaban = dataframe[kolom].tolist()\n",
    "            dict_similarity = dict()\n",
    "            dict_similarity['nama']=dataframe.Nama.tolist()\n",
    "            for nama, jawaban_banding in zip( dataframe.Nama.tolist(), list_jawaban):\n",
    "                data_list_similarity = list()\n",
    "                for index in range(len(list_jawaban)):\n",
    "                    if nama is not dataframe.Nama.tolist()[index]:\n",
    "                        data_list_similarity.append(fuzz.ratio(jawaban_banding,list_jawaban[index]))\n",
    "                    else:\n",
    "                        data_list_similarity.append(\"same\")\n",
    "                dict_similarity[nama]=data_list_similarity\n",
    "            dict_all[i]=dataframe_similarity\n",
    "            \n",
    "    kolom_dict = dict(zip(dataframe.T.columns,dataframe.Nama.tolist()))\n",
    "     \n",
    "    x = dataframe.T.rename(columns=kolom_dict)\n",
    "    self.x = x.to_dict()\n",
    "    \n",
    "    \n",
    "    def cetak_nama(self):\n",
    "        for i in dataframe.Nama.tolist():\n",
    "            print(nama)\n",
    "        \n",
    "    def bandingkan_jawaban(self, nama1,nama2, soal):\n",
    "    #     print(dataframe.columns[4::])\n",
    "\n",
    "        print(self.x[nama1][soal])\n",
    "        print(\"{\"+nama1+\"}\")\n",
    "        print(\"*\"*70)\n",
    "        print(self.x[nama2][soal])\n",
    "        print(\"{\"+nama2+\"}\", end=\" \")\n",
    "\n",
    "    \n",
    "    def simpan(self, nama_file=None):\n",
    "        if nama_file is None:\n",
    "            nama_file = self.self.nama\n",
    "            \n",
    "        writer = pd.ExcelWriter((nama_file+'.xlsx'), engine='xlsxwriter')\n",
    "        for key in dict_all:\n",
    "            df = pd.DataFrame.from_dict(dict_all[key])\n",
    "            df.to_excel(writer, sheet_name=str(key+1))\n",
    "        writer.save()"
   ]
  },
  {
   "cell_type": "code",
   "execution_count": 39,
   "metadata": {},
   "outputs": [
    {
     "name": "stdout",
     "output_type": "stream",
     "text": [
      "0\n",
      "1\n",
      "2\n",
      "3\n"
     ]
    }
   ],
   "source": []
  },
  {
   "cell_type": "code",
   "execution_count": null,
   "metadata": {},
   "outputs": [],
   "source": []
  }
 ],
 "metadata": {
  "kernelspec": {
   "display_name": "Python 3",
   "language": "python",
   "name": "python3"
  },
  "language_info": {
   "codemirror_mode": {
    "name": "ipython",
    "version": 3
   },
   "file_extension": ".py",
   "mimetype": "text/x-python",
   "name": "python",
   "nbconvert_exporter": "python",
   "pygments_lexer": "ipython3",
   "version": "3.7.6"
  }
 },
 "nbformat": 4,
 "nbformat_minor": 4
}
